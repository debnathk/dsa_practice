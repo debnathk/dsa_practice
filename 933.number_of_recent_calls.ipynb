{
 "cells": [
  {
   "cell_type": "markdown",
   "metadata": {},
   "source": [
    "# Description\n",
    "You have a RecentCounter class which counts the number of recent requests within a certain time frame.\n",
    "\n",
    "Implement the RecentCounter class:\n",
    "\n",
    "- RecentCounter() Initializes the counter with zero recent requests.\n",
    "- int ping(int t) Adds a new request at time t, where t represents some time in milliseconds, and returns the number of requests that has happened in the past 3000 milliseconds (including the new request). Specifically, return the number of requests that have happened in the inclusive range [t - 3000, t].\n",
    "\n",
    "It is guaranteed that every call to ping uses a strictly larger value of t than the previous call.\n"
   ]
  },
  {
   "cell_type": "markdown",
   "metadata": {},
   "source": [
    "## Code"
   ]
  },
  {
   "cell_type": "code",
   "execution_count": 1,
   "metadata": {},
   "outputs": [],
   "source": [
    "from collections import deque\n",
    "\n",
    "class RecentCounter:\n",
    "    def __init__(self):\n",
    "        # Initialize an empty deque to store timestamps.\n",
    "        self.q = deque()\n",
    "\n",
    "    def ping(self, t):\n",
    "        # Add the current timestamp 't' to the deque.\n",
    "        self.q.append(t)\n",
    "        \n",
    "        # Remove timestamps from the front of the deque that are older than 3000 milliseconds (3 seconds).\n",
    "        while t - self.q[0] > 3000:\n",
    "            self.q.popleft()\n",
    "        \n",
    "        # Return the current number of timestamps in the deque.\n",
    "        return len(self.q)"
   ]
  },
  {
   "cell_type": "markdown",
   "metadata": {},
   "source": [
    "# Explanation\n",
    "- This class is designed to keep track of the number of \"ping\" events within a sliding 3-second window.\n",
    "- The ping method updates the deque with the current timestamp and ensures that only timestamps from the last 3 seconds are retained.\n",
    "- The length of the deque is then returned, indicating the number of recent ping events."
   ]
  },
  {
   "cell_type": "code",
   "execution_count": 12,
   "metadata": {},
   "outputs": [],
   "source": [
    "# input = [\"RecentCounter\", \"ping\", \"ping\", \"ping\", \"ping\"]\n",
    "#         [[], [1], [100], [3001], [3002]]\n",
    "# output = [null, 1, 2, 3, 3]"
   ]
  },
  {
   "cell_type": "code",
   "execution_count": 13,
   "metadata": {},
   "outputs": [
    {
     "name": "stdout",
     "output_type": "stream",
     "text": [
      "Completed 27 problems!\n"
     ]
    }
   ],
   "source": [
    "import glob\n",
    "\n",
    "def count_files(extension):\n",
    "    files = glob.glob(f'./*.{extension}')\n",
    "    return len(files)\n",
    "\n",
    "print(f'Completed {count_files(\"ipynb\")} problems!')"
   ]
  }
 ],
 "metadata": {
  "kernelspec": {
   "display_name": "Python 3",
   "language": "python",
   "name": "python3"
  },
  "language_info": {
   "codemirror_mode": {
    "name": "ipython",
    "version": 3
   },
   "file_extension": ".py",
   "mimetype": "text/x-python",
   "name": "python",
   "nbconvert_exporter": "python",
   "pygments_lexer": "ipython3",
   "version": "3.11.7"
  }
 },
 "nbformat": 4,
 "nbformat_minor": 2
}
