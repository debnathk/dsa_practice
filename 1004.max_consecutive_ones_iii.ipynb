{
 "cells": [
  {
   "cell_type": "markdown",
   "metadata": {},
   "source": [
    "# Description\n",
    "Given a binary array nums and an integer k, return the maximum number of consecutive 1's in the array if you can flip at most k 0's.\n"
   ]
  },
  {
   "cell_type": "markdown",
   "metadata": {},
   "source": [
    "## Code"
   ]
  },
  {
   "cell_type": "code",
   "execution_count": 8,
   "metadata": {},
   "outputs": [],
   "source": [
    "class Solution(object):\n",
    "    def longestOnes(self, nums, k):\n",
    "        n, ans, l = len(nums), 0, 0\n",
    "        for r in range(n):\n",
    "            if nums[r] == 0:                       # try to pick current 0\n",
    "                if k == 0:                         # if window already picked k zeros, pop 1 from left and pick this\n",
    "                    while nums[l] != 0 : l += 1\n",
    "                    l += 1\n",
    "                else : k-= 1                       # otherwise pick it and decrement k\n",
    "            ans = max(ans, r - l + 1)              # update ans as max window size till now\n",
    "        return ans"
   ]
  },
  {
   "cell_type": "markdown",
   "metadata": {},
   "source": [
    "# Explanation\n",
    "We have to choose longest consecutive sequence of 1s with atmost k zeros (k zeros can be flipped to 1). We can use a sliding window approach for this since the problem is nothing but finding the longest window with atmost k zeros.\n",
    "\n",
    "We can maintain two pointers l (left-most window index) and r (right-most window index). We have following possible scenarios -\n",
    "\n",
    "nums[r] == 0 : We will try to include this in our window. Here we have two subcases:\n",
    "\n",
    "k != 0: We can just include nums[r] in current window and extend it. We will also decrement k denoting a zero has been picked in the current window\n",
    "k == 0: Our window already contains maximum zeros (k) allowed. So, we need to shrink our window size from the left till a zero is removed from the other end. Then we can pick nums[r] in our window & extend it. k won't change since we have popped a zero from left and picked one from right.\n",
    "nums[r] == 1: We can simply pick this element and extend our window.\n",
    "\n",
    "We will keep updating ans to hold the maximum of window size at any point in time and finally return it."
   ]
  },
  {
   "cell_type": "markdown",
   "metadata": {},
   "source": [
    "## Test case 1"
   ]
  },
  {
   "cell_type": "code",
   "execution_count": 9,
   "metadata": {},
   "outputs": [
    {
     "name": "stdout",
     "output_type": "stream",
     "text": [
      "Passed\n"
     ]
    }
   ],
   "source": [
    "nums = [1,1,1,0,0,0,1,1,1,1,0]\n",
    "k = 2\n",
    "output = 6\n",
    "\n",
    "solution = Solution()\n",
    "result = solution.longestOnes(nums, k)\n",
    "if result == output:\n",
    "    print('Passed')\n",
    "else:\n",
    "    print('Failed')"
   ]
  },
  {
   "cell_type": "markdown",
   "metadata": {},
   "source": [
    "## Test case 2"
   ]
  },
  {
   "cell_type": "code",
   "execution_count": 10,
   "metadata": {},
   "outputs": [
    {
     "name": "stdout",
     "output_type": "stream",
     "text": [
      "Passed\n"
     ]
    }
   ],
   "source": [
    "nums = [1,1,1,0,0,0,1,1,1,1,0]\n",
    "k = 2\n",
    "output = 6\n",
    "\n",
    "solution = Solution()\n",
    "result = solution.longestOnes(nums, k)\n",
    "if result == output:\n",
    "    print('Passed')\n",
    "else:\n",
    "    print('Failed')"
   ]
  },
  {
   "cell_type": "markdown",
   "metadata": {},
   "source": [
    "## Test case 3"
   ]
  },
  {
   "cell_type": "code",
   "execution_count": 11,
   "metadata": {},
   "outputs": [
    {
     "name": "stdout",
     "output_type": "stream",
     "text": [
      "Passed\n"
     ]
    }
   ],
   "source": [
    "nums = [1,1,1,0,0,0,1,1,1,1,0]\n",
    "k = 2\n",
    "output = 6\n",
    "\n",
    "solution = Solution()\n",
    "result = solution.longestOnes(nums, k)\n",
    "if result == output:\n",
    "    print('Passed')\n",
    "else:\n",
    "    print('Failed')"
   ]
  }
 ],
 "metadata": {
  "kernelspec": {
   "display_name": "Python 3",
   "language": "python",
   "name": "python3"
  },
  "language_info": {
   "codemirror_mode": {
    "name": "ipython",
    "version": 3
   },
   "file_extension": ".py",
   "mimetype": "text/x-python",
   "name": "python",
   "nbconvert_exporter": "python",
   "pygments_lexer": "ipython3",
   "version": "3.8.10"
  }
 },
 "nbformat": 4,
 "nbformat_minor": 2
}
