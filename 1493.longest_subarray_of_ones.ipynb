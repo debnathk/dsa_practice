{
 "cells": [
  {
   "cell_type": "markdown",
   "metadata": {},
   "source": [
    "# Description\n",
    "Given a binary array nums, you should delete one element from it.\n",
    "\n",
    "Return the size of the longest non-empty subarray containing only 1's in the resulting array. Return 0 if there is no such subarray.\n"
   ]
  },
  {
   "cell_type": "markdown",
   "metadata": {},
   "source": [
    "## Code"
   ]
  },
  {
   "cell_type": "code",
   "execution_count": 41,
   "metadata": {},
   "outputs": [],
   "source": [
    "class Solution(object):\n",
    "    def longestSubarray(self, nums):\n",
    "        \"\"\"\n",
    "        :type nums: List[int]\n",
    "        :rtype: int\n",
    "        \"\"\"\n",
    "        j = -1                      # Keeps track of the 0's position in the array\n",
    "        c = 0                       # Keeps track of the length of the current window\n",
    "        ans = 0\n",
    "\n",
    "        for i in range(len(nums)):\n",
    "            if nums[i] == 0:        # If the first element is 0, it will not affect the window, so just continue\n",
    "                if i == 0:\n",
    "                    j = i\n",
    "                    continue\n",
    "                else:\n",
    "                    c = i - j - 1   # If 0 exists in between, update window length\n",
    "                    j = i           # Update j \n",
    "            else:\n",
    "                c += 1              # Increase c by 1 for every 1 count\n",
    "            ans = max(ans, c)\n",
    "\n",
    "        if j == -1:                 # If no zero is present, delete one element (as per the description) - and return \n",
    "            return len(nums)-1\n",
    "        else:\n",
    "            return ans              # Else, return ans"
   ]
  },
  {
   "cell_type": "markdown",
   "metadata": {},
   "source": [
    "# Explanation\n",
    "- j keeps track of the 0's position in the array\n",
    "- c keeps track of the length of the current window\n",
    "- If the first element is 0, it will not affect the window, so just continue\n",
    "- If 0 exists in between, update window length, and set j to the current 0's position\n",
    "- For each encounter of 1, increase c by 1\n",
    "- If no zero is present, delete one element (as per the description) - and return. Else, return ans"
   ]
  },
  {
   "cell_type": "markdown",
   "metadata": {},
   "source": [
    "## Test case 1"
   ]
  },
  {
   "cell_type": "code",
   "execution_count": 42,
   "metadata": {},
   "outputs": [
    {
     "name": "stdout",
     "output_type": "stream",
     "text": [
      "Passed\n"
     ]
    }
   ],
   "source": [
    "nums = [0,1,1,1,0,1,1,0,1]\n",
    "output = 5\n",
    "\n",
    "solution = Solution()\n",
    "result = solution.longestSubarray(nums)\n",
    "if result == output:\n",
    "    print('Passed')\n",
    "else:\n",
    "    print('Failed')"
   ]
  },
  {
   "cell_type": "markdown",
   "metadata": {},
   "source": [
    "## Test case 2"
   ]
  },
  {
   "cell_type": "code",
   "execution_count": 43,
   "metadata": {},
   "outputs": [
    {
     "name": "stdout",
     "output_type": "stream",
     "text": [
      "Passed\n"
     ]
    }
   ],
   "source": [
    "nums = [1,1,0,1]\n",
    "output = 3\n",
    "\n",
    "solution = Solution()\n",
    "result = solution.longestSubarray(nums)\n",
    "if result == output:\n",
    "    print('Passed')\n",
    "else:\n",
    "    print('Failed')"
   ]
  },
  {
   "cell_type": "markdown",
   "metadata": {},
   "source": [
    "## Test case 3"
   ]
  },
  {
   "cell_type": "code",
   "execution_count": 44,
   "metadata": {},
   "outputs": [
    {
     "name": "stdout",
     "output_type": "stream",
     "text": [
      "Passed\n"
     ]
    }
   ],
   "source": [
    "nums = [1,1,1]\n",
    "output = 2\n",
    "\n",
    "solution = Solution()\n",
    "result = solution.longestSubarray(nums)\n",
    "if result == output:\n",
    "    print('Passed')\n",
    "else:\n",
    "    print('Failed')"
   ]
  }
 ],
 "metadata": {
  "kernelspec": {
   "display_name": "Python 3",
   "language": "python",
   "name": "python3"
  },
  "language_info": {
   "codemirror_mode": {
    "name": "ipython",
    "version": 3
   },
   "file_extension": ".py",
   "mimetype": "text/x-python",
   "name": "python",
   "nbconvert_exporter": "python",
   "pygments_lexer": "ipython3",
   "version": "3.8.10"
  }
 },
 "nbformat": 4,
 "nbformat_minor": 2
}
