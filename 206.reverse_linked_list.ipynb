{
 "cells": [
  {
   "cell_type": "markdown",
   "metadata": {},
   "source": [
    "# Description\n",
    "Given the head of a singly linked list, reverse the list, and return the reversed list."
   ]
  },
  {
   "cell_type": "markdown",
   "metadata": {},
   "source": [
    "## Code"
   ]
  },
  {
   "cell_type": "code",
   "execution_count": 1,
   "metadata": {},
   "outputs": [],
   "source": [
    "# Definition for singly-linked list.\n",
    "class ListNode(object):\n",
    "    def __init__(self, val=0, next=None):\n",
    "        self.val = val\n",
    "        self.next = next\n",
    "class Solution(object):\n",
    "    def reverseList(self, head):\n",
    "        # Initialize prev pointer as NULL...\n",
    "        prev = None\n",
    "        # Initialize the curr pointer as the head...\n",
    "        curr = head\n",
    "        # Run a loop till curr points to NULL...\n",
    "        while curr:\n",
    "            # Initialize next pointer as the next pointer of curr...\n",
    "            next = curr.next\n",
    "            # Now assign the prev pointer to curr’s next pointer.\n",
    "            curr.next = prev\n",
    "            # Assign curr to prev, next to curr...\n",
    "            prev = curr\n",
    "            curr = next\n",
    "        return prev       # Return the prev pointer to get the reverse linked list..."
   ]
  },
  {
   "cell_type": "code",
   "execution_count": 2,
   "metadata": {},
   "outputs": [],
   "source": [
    "# Util functions\n",
    "def list2linkedlist(list):\n",
    "    dummy = current = ListNode(0)\n",
    "    for l in list:\n",
    "        current.next = ListNode(l)\n",
    "        current = current.next\n",
    "    return dummy.next  \n",
    "\n",
    "def linkedlist2list(node):\n",
    "    result = []\n",
    "    while node:\n",
    "        result.append(node.val)\n",
    "        node = node.next\n",
    "    return result "
   ]
  },
  {
   "cell_type": "markdown",
   "metadata": {},
   "source": [
    "# Test case 1"
   ]
  },
  {
   "cell_type": "code",
   "execution_count": 3,
   "metadata": {},
   "outputs": [
    {
     "name": "stdout",
     "output_type": "stream",
     "text": [
      "Passed\n"
     ]
    }
   ],
   "source": [
    "head = [1,2,3,4,5]\n",
    "output = [5,4,3,2,1]\n",
    "\n",
    "solution = Solution()\n",
    "result = linkedlist2list(solution.reverseList(list2linkedlist(head)))\n",
    "if result == output:\n",
    "    print('Passed')\n",
    "else:\n",
    "    print('Failed')"
   ]
  },
  {
   "cell_type": "markdown",
   "metadata": {},
   "source": [
    "# Test case 2"
   ]
  },
  {
   "cell_type": "code",
   "execution_count": 4,
   "metadata": {},
   "outputs": [
    {
     "name": "stdout",
     "output_type": "stream",
     "text": [
      "Passed\n"
     ]
    }
   ],
   "source": [
    "head = [2,1,3,5,6,4,7]\n",
    "output = [7,4,6,5,3,1,2]\n",
    "\n",
    "solution = Solution()\n",
    "result = linkedlist2list(solution.reverseList(list2linkedlist(head)))\n",
    "if result == output:\n",
    "    print('Passed')\n",
    "else:\n",
    "    print('Failed')"
   ]
  },
  {
   "cell_type": "code",
   "execution_count": 5,
   "metadata": {},
   "outputs": [
    {
     "name": "stdout",
     "output_type": "stream",
     "text": [
      "Completed 31 problems!\n"
     ]
    }
   ],
   "source": [
    "import glob\n",
    "\n",
    "def count_files(extension):\n",
    "    files = glob.glob(f'./*.{extension}')\n",
    "    return len(files)\n",
    "\n",
    "print(f'Completed {count_files(\"ipynb\")} problems!')"
   ]
  }
 ],
 "metadata": {
  "kernelspec": {
   "display_name": "Python 3",
   "language": "python",
   "name": "python3"
  },
  "language_info": {
   "codemirror_mode": {
    "name": "ipython",
    "version": 3
   },
   "file_extension": ".py",
   "mimetype": "text/x-python",
   "name": "python",
   "nbconvert_exporter": "python",
   "pygments_lexer": "ipython3",
   "version": "3.11.7"
  }
 },
 "nbformat": 4,
 "nbformat_minor": 2
}
