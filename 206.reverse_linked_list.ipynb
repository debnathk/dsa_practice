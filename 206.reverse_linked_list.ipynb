{
 "cells": [
  {
   "cell_type": "markdown",
   "metadata": {},
   "source": [
    "# Description\n",
    "Given the head of a singly linked list, group all the nodes with odd indices together followed by the nodes with even indices, and return the reordered list.\n",
    "\n",
    "The first node is considered odd, and the second node is even, and so on.\n",
    "\n",
    "Note that the relative order inside both the even and odd groups should remain as it was in the input.\n",
    "\n",
    "You must solve the problem in O(1) extra space complexity and O(n) time complexity.\n"
   ]
  },
  {
   "cell_type": "markdown",
   "metadata": {},
   "source": [
    "## Code"
   ]
  },
  {
   "cell_type": "code",
   "execution_count": 3,
   "metadata": {},
   "outputs": [],
   "source": [
    "# Definition for singly-linked list.\n",
    "class ListNode(object):\n",
    "    def __init__(self, val=0, next=None):\n",
    "        self.val = val\n",
    "        self.next = next\n",
    "\n",
    "class Solution(object):\n",
    "    def oddEvenList(self, head):\n",
    "        dummy1 = odd = ListNode(0)\n",
    "        dummy2 = even = ListNode(0)\n",
    "        while head:\n",
    "            odd.next = head\n",
    "            even.next = head.next\n",
    "            odd = odd.next\n",
    "            even = even.next\n",
    "            head = head.next.next if even else None\n",
    "        odd.next = dummy2.next\n",
    "        return dummy1.next"
   ]
  },
  {
   "cell_type": "code",
   "execution_count": 4,
   "metadata": {},
   "outputs": [],
   "source": [
    "# Definition for singly-linked list.\n",
    "class ListNode(object):\n",
    "    def __init__(self, val=0, next=None):\n",
    "        self.val = val\n",
    "        self.next = next\n",
    "\n",
    "# Util functions\n",
    "def list2linkedlist(list):\n",
    "    dummy = current = ListNode(0)\n",
    "    for l in list:\n",
    "        current.next = ListNode(l)\n",
    "        current = current.next\n",
    "    return dummy.next  \n",
    "\n",
    "def linkedlist2list(node):\n",
    "    result = []\n",
    "    while node:\n",
    "        result.append(node.val)\n",
    "        node = node.next\n",
    "    return result "
   ]
  },
  {
   "cell_type": "code",
   "execution_count": 19,
   "metadata": {},
   "outputs": [],
   "source": [
    "# Util functions\n",
    "def list2linkedlist(list):\n",
    "    dummy = current = ListNode(0)\n",
    "    for l in list:\n",
    "        current.next = ListNode(l)\n",
    "        current = current.next\n",
    "    return dummy.next   \n",
    "\n",
    "def linkedlist2list(node):\n",
    "    result = []\n",
    "    while node:\n",
    "        result.append(node.val)\n",
    "        node = node.next\n",
    "    return result "
   ]
  },
  {
   "cell_type": "markdown",
   "metadata": {},
   "source": [
    "# Explanation\n",
    "The linkedlist problem utilizes `three-pointers` approach:\n",
    "- Initialize three pointers - prevslow, slow and fast. By declaration, fast pointe traverses twice fast as slow.\n",
    "- When the fast pointer reaches at the end of linkedlist, the slow pointer reaches the middle point.\n",
    "- Next, set the prevslow.next to the slow.next, means discard the middle element.\n",
    "- Finaly, return the head."
   ]
  },
  {
   "cell_type": "markdown",
   "metadata": {},
   "source": [
    "The iteration flow of the code is given below:\n",
    "        dummy1 : 0 -> None\n",
    "        dummy2 : 0 -> None\n",
    "        odd : 0 -> None\n",
    "        even : 0 -> None\n",
    "        head : 1 -> 2 -> 3 -> 4 -> 5\n",
    "\n",
    "        dummy1 : 0 -> 1 -> None\n",
    "        dummy2 : 0 -> 2 -> None\n",
    "        odd : 1 -> None\n",
    "        even : 2 -> None\n",
    "        head : 3 -> 4 -> 5\n",
    "\n",
    "        dummy1 : 0 -> 1 -> 3 -> None\n",
    "        dummy2 : 0 -> 2 -> 4 -> None\n",
    "        odd : 3 -> None\n",
    "        even : 4 -> None\n",
    "        head : 5\n",
    "\n",
    "        dummy1 : 0 -> 1 -> 3 -> 5 -> None\n",
    "        dummy2 : 0 -> 2 -> 4 -> None\n",
    "        odd : 5 -> None\n",
    "        even : None\n",
    "        head : None\n",
    "\n",
    "        --loop ends\n",
    "        dummy1 : 0 -> 1 -> 3 -> 5 -> 2 -> 4\n",
    "        dummy1.next: 1 -> 3 -> 5 -> 2 -> 4"
   ]
  },
  {
   "cell_type": "markdown",
   "metadata": {},
   "source": [
    "# Test case 1"
   ]
  },
  {
   "cell_type": "code",
   "execution_count": 6,
   "metadata": {},
   "outputs": [
    {
     "name": "stdout",
     "output_type": "stream",
     "text": [
      "Passed\n"
     ]
    }
   ],
   "source": [
    "head = [1,2,3,4,5]\n",
    "output = [1,3,5,2,4]\n",
    "\n",
    "solution = Solution()\n",
    "result = linkedlist2list(solution.oddEvenList(list2linkedlist(head)))\n",
    "if result == output:\n",
    "    print('Passed')\n",
    "else:\n",
    "    print('Failed')"
   ]
  },
  {
   "cell_type": "markdown",
   "metadata": {},
   "source": [
    "# Test case 2"
   ]
  },
  {
   "cell_type": "code",
   "execution_count": 8,
   "metadata": {},
   "outputs": [
    {
     "name": "stdout",
     "output_type": "stream",
     "text": [
      "Passed\n"
     ]
    }
   ],
   "source": [
    "head = [2,1,3,5,6,4,7]\n",
    "output = [2,3,6,7,1,5,4]\n",
    "\n",
    "solution = Solution()\n",
    "result = linkedlist2list(solution.oddEvenList(list2linkedlist(head)))\n",
    "if result == output:\n",
    "    print('Passed')\n",
    "else:\n",
    "    print('Failed')"
   ]
  },
  {
   "cell_type": "code",
   "execution_count": 9,
   "metadata": {},
   "outputs": [
    {
     "name": "stdout",
     "output_type": "stream",
     "text": [
      "Completed 30 problems!\n"
     ]
    }
   ],
   "source": [
    "import glob\n",
    "\n",
    "def count_files(extension):\n",
    "    files = glob.glob(f'./*.{extension}')\n",
    "    return len(files)\n",
    "\n",
    "print(f'Completed {count_files(\"ipynb\")} problems!')"
   ]
  }
 ],
 "metadata": {
  "kernelspec": {
   "display_name": "Python 3",
   "language": "python",
   "name": "python3"
  },
  "language_info": {
   "codemirror_mode": {
    "name": "ipython",
    "version": 3
   },
   "file_extension": ".py",
   "mimetype": "text/x-python",
   "name": "python",
   "nbconvert_exporter": "python",
   "pygments_lexer": "ipython3",
   "version": "3.11.7"
  }
 },
 "nbformat": 4,
 "nbformat_minor": 2
}
