{
 "cells": [
  {
   "cell_type": "markdown",
   "metadata": {},
   "source": [
    "# Description\n",
    "Two strings are considered close if you can attain one from the other using the following operations:\n",
    "\n",
    "- Operation 1: Swap any two existing characters.\n",
    "    - For example, abcde -> aecdb\n",
    "- Operation 2: Transform every occurrence of one existing character into another existing character, and do the same with the other character.\n",
    "    - For example, aacabb -> bbcbaa (all a's turn into b's, and all b's turn into a's)\n",
    "You can use the operations on either string as many times as necessary.\n",
    "\n",
    "Given two strings, word1 and word2, return true if word1 and word2 are close, and false otherwise.\n"
   ]
  },
  {
   "cell_type": "markdown",
   "metadata": {},
   "source": [
    "## Code"
   ]
  },
  {
   "cell_type": "code",
   "execution_count": 3,
   "metadata": {},
   "outputs": [],
   "source": [
    "from collections import Counter\n",
    "\n",
    "class Solution(object):\n",
    "    def closeStrings(self, word1, word2):\n",
    "        \"\"\"\n",
    "        :type word1: str\n",
    "        :type word2: str\n",
    "        :rtype: bool\n",
    "        \"\"\"\n",
    "        if len(word1) == len(word2):\n",
    "            if set(word1) == set(word2):\n",
    "                if list(Counter(word1).values()) == list(Counter(word2).values()):\n",
    "                    return True\n",
    "                else:\n",
    "                    return False\n",
    "        return False"
   ]
  },
  {
   "cell_type": "markdown",
   "metadata": {},
   "source": [
    "# Explanation\n",
    "Several conditions to be checked to solve the problem:\n",
    "- Both strings must be of same length\n",
    "- Both strings must have exact same elements\n",
    "- The Counter of the values must be same"
   ]
  },
  {
   "cell_type": "markdown",
   "metadata": {},
   "source": [
    "## Test case 1"
   ]
  },
  {
   "cell_type": "code",
   "execution_count": 4,
   "metadata": {},
   "outputs": [
    {
     "name": "stdout",
     "output_type": "stream",
     "text": [
      "Passed\n"
     ]
    }
   ],
   "source": [
    "word1 = 'abc'\n",
    "word2 = 'bca'\n",
    "output = True\n",
    "\n",
    "solution = Solution()\n",
    "result = solution.closeStrings(word1, word2)\n",
    "if result == output:\n",
    "    print('Passed')\n",
    "else:\n",
    "    print('Failed')"
   ]
  },
  {
   "cell_type": "markdown",
   "metadata": {},
   "source": [
    "## Test case 2"
   ]
  },
  {
   "cell_type": "code",
   "execution_count": 5,
   "metadata": {},
   "outputs": [
    {
     "name": "stdout",
     "output_type": "stream",
     "text": [
      "Passed\n"
     ]
    }
   ],
   "source": [
    "word1 = 'a'\n",
    "word2 = 'aa'\n",
    "output = False\n",
    "\n",
    "solution = Solution()\n",
    "result = solution.closeStrings(word1, word2)\n",
    "if result == output:\n",
    "    print('Passed')\n",
    "else:\n",
    "    print('Failed')"
   ]
  },
  {
   "cell_type": "markdown",
   "metadata": {},
   "source": [
    "## Test case 3"
   ]
  },
  {
   "cell_type": "code",
   "execution_count": 6,
   "metadata": {},
   "outputs": [
    {
     "name": "stdout",
     "output_type": "stream",
     "text": [
      "Passed\n"
     ]
    }
   ],
   "source": [
    "word1 = 'cabbba'\n",
    "word2 = 'abbccc'\n",
    "output = True\n",
    "\n",
    "solution = Solution()\n",
    "result = solution.closeStrings(word1, word2)\n",
    "if result == output:\n",
    "    print('Passed')\n",
    "else:\n",
    "    print('Failed')"
   ]
  }
 ],
 "metadata": {
  "kernelspec": {
   "display_name": "Python 3",
   "language": "python",
   "name": "python3"
  },
  "language_info": {
   "codemirror_mode": {
    "name": "ipython",
    "version": 3
   },
   "file_extension": ".py",
   "mimetype": "text/x-python",
   "name": "python",
   "nbconvert_exporter": "python",
   "pygments_lexer": "ipython3",
   "version": "3.11.7"
  }
 },
 "nbformat": 4,
 "nbformat_minor": 2
}
