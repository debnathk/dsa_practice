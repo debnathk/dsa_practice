{
 "cells": [
  {
   "cell_type": "markdown",
   "metadata": {},
   "source": [
    "# Description\n",
    "In the world of Dota2, there are two parties: the Radiant and the Dire.\n",
    "\n",
    "The Dota2 senate consists of senators coming from two parties. Now the Senate wants to decide on a change in the Dota2 game. The voting for this change is a round-based procedure. In each round, each senator can exercise one of the two rights:\n",
    "\n",
    "Ban one senator's right: A senator can make another senator lose all his rights in this and all the following rounds.\n",
    "Announce the victory: If this senator found the senators who still have rights to vote are all from the same party, he can announce the victory and decide on the change in the game.\n",
    "Given a string senate representing each senator's party belonging. The character 'R' and 'D' represent the Radiant party and the Dire party. Then if there are n senators, the size of the given string will be n.\n",
    "\n",
    "The round-based procedure starts from the first senator to the last senator in the given order. This procedure will last until the end of voting. All the senators who have lost their rights will be skipped during the procedure.\n",
    "\n",
    "Suppose every senator is smart enough and will play the best strategy for his own party. Predict which party will finally announce the victory and change the Dota2 game. The output should be \"Radiant\" or \"Dire\".\n"
   ]
  },
  {
   "cell_type": "markdown",
   "metadata": {},
   "source": [
    "## Code"
   ]
  },
  {
   "cell_type": "code",
   "execution_count": 4,
   "metadata": {},
   "outputs": [],
   "source": [
    "# Definition for singly-linked list.\n",
    "class ListNode(object):\n",
    "    def __init__(self, val=0, next=None):\n",
    "        self.val = val\n",
    "        self.next = next\n",
    "class Solution(object):\n",
    "    def deleteMiddle(self, head):\n",
    "        \"\"\"\n",
    "        :type head: Optional[ListNode]\n",
    "        :rtype: Optional[ListNode]\n",
    "        \"\"\"\n",
    "        if not head.next:\n",
    "            return head.next\n",
    "        slow, fast, prevslow = head, head, None\n",
    "        while fast and fast.next:\n",
    "            prevslow = slow\n",
    "            slow = slow.next\n",
    "            fast = fast.next.next\n",
    "  \n",
    "        prevslow.next = slow.next\n",
    "\n",
    "        return head"
   ]
  },
  {
   "cell_type": "code",
   "execution_count": 6,
   "metadata": {},
   "outputs": [],
   "source": [
    "# Definition for singly-linked list.\n",
    "class ListNode(object):\n",
    "    def __init__(self, val=0, next=None):\n",
    "        self.val = val\n",
    "        self.next = next\n",
    "\n",
    "# Util functions\n",
    "def list2linkedlist(list):\n",
    "    dummy = current = ListNode(0)\n",
    "    for l in list:\n",
    "        current.next = ListNode(l)\n",
    "        current = current.next\n",
    "    return dummy.next  \n",
    "\n",
    "def linkedlist2list(node):\n",
    "    result = []\n",
    "    while node:\n",
    "        result.append(node.val)\n",
    "        node = node.next\n",
    "    return result "
   ]
  },
  {
   "cell_type": "code",
   "execution_count": 11,
   "metadata": {},
   "outputs": [
    {
     "name": "stdout",
     "output_type": "stream",
     "text": [
      "1 \n",
      "3 \n",
      "4 \n",
      "7 \n",
      "1 \n",
      "2 \n",
      "6 \n"
     ]
    }
   ],
   "source": [
    "head = [1,3,4,7,1,2,6]\n",
    "head = linkedlist2list(list2linkedlist(head))\n",
    "for i in head:\n",
    "    print(f'{i} ')"
   ]
  },
  {
   "cell_type": "code",
   "execution_count": 19,
   "metadata": {},
   "outputs": [],
   "source": [
    "# Util functions\n",
    "def list2linkedlist(list):\n",
    "    dummy = current = ListNode(0)\n",
    "    for l in list:\n",
    "        current.next = ListNode(l)\n",
    "        current = current.next\n",
    "    return dummy.next   \n",
    "\n",
    "def linkedlist2list(node):\n",
    "    result = []\n",
    "    while node:\n",
    "        result.append(node.val)\n",
    "        node = node.next\n",
    "    return result "
   ]
  },
  {
   "cell_type": "code",
   "execution_count": null,
   "metadata": {},
   "outputs": [],
   "source": [
    "dummy1 : 0 -> None\n",
    "        dummy2 : 0 -> None\n",
    "        odd : 0 -> None\n",
    "        even : 0 -> None\n",
    "        head : 1 -> 2 -> 3 -> 4 -> 5\n",
    "\n",
    "        dummy1 : 0 -> 1 -> None\n",
    "        dummy2 : 0 -> 2 -> None\n",
    "        odd : 1 -> None\n",
    "        even : 2 -> None\n",
    "        head : 3 -> 4 -> 5\n",
    "\n",
    "        dummy1 : 0 -> 1 -> 3 -> None\n",
    "        dummy2 : 0 -> 2 -> 4 -> None\n",
    "        odd : 3 -> None\n",
    "        even : 4 -> None\n",
    "        head : 5\n",
    "\n",
    "        dummy1 : 0 -> 1 -> 3 -> 5 -> None\n",
    "        dummy2 : 0 -> 2 -> 4 -> None\n",
    "        odd : 5 -> None\n",
    "        even : None\n",
    "        head : None\n",
    "\n",
    "        --loop ends\n",
    "        dummy1 : 0 -> 1 -> 3 -> 5 -> 2 -> 4\n",
    "        dummy1.next: 1 -> 3 -> 5 -> 2 -> 4"
   ]
  },
  {
   "cell_type": "markdown",
   "metadata": {},
   "source": [
    "# Explanation\n",
    "The linkedlist problem utilizes `three-pointers` approach:\n",
    "- Initialize three pointers - prevslow, slow and fast. By declaration, fast pointe traverses twice fast as slow.\n",
    "- When the fast pointer reaches at the end of linkedlist, the slow pointer reaches the middle point.\n",
    "- Next, set the prevslow.next to the slow.next, means discard the middle element.\n",
    "- Finaly, return the head."
   ]
  },
  {
   "cell_type": "markdown",
   "metadata": {},
   "source": [
    "# Test case 1"
   ]
  },
  {
   "cell_type": "code",
   "execution_count": 20,
   "metadata": {},
   "outputs": [
    {
     "name": "stdout",
     "output_type": "stream",
     "text": [
      "Passed\n"
     ]
    }
   ],
   "source": [
    "head = [1,3,4,7,1,2,6]\n",
    "output = [1,3,4,1,2,6]\n",
    "\n",
    "solution = Solution()\n",
    "result = linkedlist2list(solution.deleteMiddle(list2linkedlist(head)))\n",
    "if result == output:\n",
    "    print('Passed')\n",
    "else:\n",
    "    print('Failed')"
   ]
  },
  {
   "cell_type": "markdown",
   "metadata": {},
   "source": [
    "# Test case 2"
   ]
  },
  {
   "cell_type": "code",
   "execution_count": 23,
   "metadata": {},
   "outputs": [
    {
     "name": "stdout",
     "output_type": "stream",
     "text": [
      "Passed\n"
     ]
    }
   ],
   "source": [
    "head = [1,3,4,1,2,6]\n",
    "output = [1,3,4,2,6]\n",
    "\n",
    "solution = Solution()\n",
    "result = linkedlist2list(solution.deleteMiddle(list2linkedlist(head)))\n",
    "if result == output:\n",
    "    print('Passed')\n",
    "else:\n",
    "    print('Failed')"
   ]
  },
  {
   "cell_type": "markdown",
   "metadata": {},
   "source": [
    "# Test case 3"
   ]
  },
  {
   "cell_type": "code",
   "execution_count": 25,
   "metadata": {},
   "outputs": [
    {
     "name": "stdout",
     "output_type": "stream",
     "text": [
      "Passed\n"
     ]
    }
   ],
   "source": [
    "head = [1,4,7,1,2,6]\n",
    "output = [1,4,7,2,6]\n",
    "\n",
    "solution = Solution()\n",
    "result = linkedlist2list(solution.deleteMiddle(list2linkedlist(head)))\n",
    "if result == output:\n",
    "    print('Passed')\n",
    "else:\n",
    "    print('Failed')"
   ]
  },
  {
   "cell_type": "code",
   "execution_count": 27,
   "metadata": {},
   "outputs": [
    {
     "name": "stdout",
     "output_type": "stream",
     "text": [
      "Completed 29 problems!\n"
     ]
    }
   ],
   "source": [
    "import glob\n",
    "\n",
    "def count_files(extension):\n",
    "    files = glob.glob(f'./*.{extension}')\n",
    "    return len(files)\n",
    "\n",
    "print(f'Completed {count_files(\"ipynb\")} problems!')"
   ]
  }
 ],
 "metadata": {
  "kernelspec": {
   "display_name": "Python 3",
   "language": "python",
   "name": "python3"
  },
  "language_info": {
   "codemirror_mode": {
    "name": "ipython",
    "version": 3
   },
   "file_extension": ".py",
   "mimetype": "text/x-python",
   "name": "python",
   "nbconvert_exporter": "python",
   "pygments_lexer": "ipython3",
   "version": "3.8.10"
  }
 },
 "nbformat": 4,
 "nbformat_minor": 2
}
