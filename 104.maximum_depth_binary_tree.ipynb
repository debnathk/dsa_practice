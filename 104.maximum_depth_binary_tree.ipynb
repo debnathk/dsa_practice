{
 "cells": [
  {
   "cell_type": "markdown",
   "metadata": {},
   "source": [
    "# Description\n",
    "Given the root of a binary tree, return its maximum depth.\n",
    "\n",
    "A binary tree's maximum depth is the number of nodes along the longest path from the root node down to the farthest leaf node.\n"
   ]
  },
  {
   "cell_type": "markdown",
   "metadata": {},
   "source": [
    "## Code"
   ]
  },
  {
   "cell_type": "code",
   "execution_count": 1,
   "metadata": {},
   "outputs": [],
   "source": [
    "# Definition for a binary tree node.\n",
    "class TreeNode(object):\n",
    "    def __init__(self, val=0, left=None, right=None):\n",
    "        self.val = val\n",
    "        self.left = left\n",
    "        self.right = right\n",
    "class Solution(object):\n",
    "    def maxDepth(self, root):\n",
    "        \"\"\"\n",
    "        :type root: TreeNode\n",
    "        :rtype: int\n",
    "        \"\"\"\n",
    "        stack = [(root, 1)]\n",
    "        result = 0\n",
    "        while stack:\n",
    "            node, depth = stack.pop()\n",
    "            if node:\n",
    "                result = max(result, depth)\n",
    "                stack.extend([(node.left, depth + 1)])\n",
    "                stack.extend([(node.right, depth + 1)])\n",
    "        return result"
   ]
  },
  {
   "cell_type": "code",
   "execution_count": 2,
   "metadata": {},
   "outputs": [],
   "source": [
    "# Convert a linked list to a binary tree\n",
    "from collections import deque\n",
    "\n",
    "def list2binarytree(nums):\n",
    "    if not nums:\n",
    "        return None\n",
    "\n",
    "    root = TreeNode(nums[0])\n",
    "    queue = deque([root])\n",
    "    length = len(nums)\n",
    "    index = 1\n",
    "\n",
    "    while queue:\n",
    "        node = queue.popleft()\n",
    "        if index < length:\n",
    "            node.left = TreeNode(nums[index])\n",
    "            queue.append(node.left)\n",
    "            index += 1\n",
    "        if index < length:\n",
    "            node.right = TreeNode(nums[index])\n",
    "            queue.append(node.right)\n",
    "            index += 1\n",
    "\n",
    "    return root\n",
    "\n",
    "# Convert a list to a linked list\n",
    "def binarytree2list(root):\n",
    "    if not root:\n",
    "        return []\n",
    "\n",
    "    result = []\n",
    "    queue = deque([root])\n",
    "\n",
    "    while queue:\n",
    "        node = queue.popleft()\n",
    "        if node:\n",
    "            result.append(node.val)\n",
    "            if node.left:\n",
    "                queue.append(node.left)\n",
    "            if node.right:\n",
    "                queue.append(node.right)\n",
    "        else:\n",
    "            result.append(None)\n",
    "\n",
    "    while result[-1] is None:\n",
    "        result.pop()\n",
    "\n",
    "    return result"
   ]
  },
  {
   "cell_type": "markdown",
   "metadata": {},
   "source": [
    "# Explanation\n",
    "The binary tree problem can be solved using three approaches, which are given below:\n",
    "\n",
    "`1. Recursive DFS`\n",
    "- Recursively calculate the value of `1 + max(dfs(left), dfs(right))`\n",
    "\n",
    "`2. Iterative BFS`\n",
    "- Initialiaze a queue, store the root node in there, also level = 1\n",
    "- With each node, pop that node and check if child nodes exist:\n",
    "    - If exist, append the child nodes and increase the level by 1\n",
    "- Run the loop until the queue is not empty.\n",
    "- Finally, return the level as output\n",
    "\n",
    "`3. Recursive DFS`\n",
    "- Initialiaze a stack, store the root node in there, also the depth = 0\n",
    "- Initialize a result variable to track the maximum depth\n",
    "- With each node, pop that node and depth, and check if child nodes exist:\n",
    "    - set result = max(result, depth)\n",
    "    - If exist, append the child nodes and depth + 1\n",
    "- Run the loop until the queue is not empty.\n",
    "- Finally, return the level as output"
   ]
  },
  {
   "cell_type": "markdown",
   "metadata": {},
   "source": [
    "# Test case 1"
   ]
  },
  {
   "cell_type": "code",
   "execution_count": 3,
   "metadata": {},
   "outputs": [
    {
     "ename": "AttributeError",
     "evalue": "'int' object has no attribute 'val'",
     "output_type": "error",
     "traceback": [
      "\u001b[1;31m---------------------------------------------------------------------------\u001b[0m",
      "\u001b[1;31mAttributeError\u001b[0m                            Traceback (most recent call last)",
      "Cell \u001b[1;32mIn[3], line 5\u001b[0m\n\u001b[0;32m      2\u001b[0m output \u001b[38;5;241m=\u001b[39m \u001b[38;5;241m3\u001b[39m\n\u001b[0;32m      4\u001b[0m solution \u001b[38;5;241m=\u001b[39m Solution()\n\u001b[1;32m----> 5\u001b[0m result \u001b[38;5;241m=\u001b[39m binarytree2list(solution\u001b[38;5;241m.\u001b[39mmaxDepth(list2binarytree(root)))\n\u001b[0;32m      6\u001b[0m \u001b[38;5;28;01mif\u001b[39;00m result \u001b[38;5;241m==\u001b[39m output:\n\u001b[0;32m      7\u001b[0m     \u001b[38;5;28mprint\u001b[39m(\u001b[38;5;124m'\u001b[39m\u001b[38;5;124mPassed\u001b[39m\u001b[38;5;124m'\u001b[39m)\n",
      "Cell \u001b[1;32mIn[2], line 37\u001b[0m, in \u001b[0;36mbinarytree2list\u001b[1;34m(root)\u001b[0m\n\u001b[0;32m     35\u001b[0m node \u001b[38;5;241m=\u001b[39m queue\u001b[38;5;241m.\u001b[39mpopleft()\n\u001b[0;32m     36\u001b[0m \u001b[38;5;28;01mif\u001b[39;00m node:\n\u001b[1;32m---> 37\u001b[0m     result\u001b[38;5;241m.\u001b[39mappend(node\u001b[38;5;241m.\u001b[39mval)\n\u001b[0;32m     38\u001b[0m     \u001b[38;5;28;01mif\u001b[39;00m node\u001b[38;5;241m.\u001b[39mleft:\n\u001b[0;32m     39\u001b[0m         queue\u001b[38;5;241m.\u001b[39mappend(node\u001b[38;5;241m.\u001b[39mleft)\n",
      "\u001b[1;31mAttributeError\u001b[0m: 'int' object has no attribute 'val'"
     ]
    }
   ],
   "source": [
    "root = [3,9,20,None,None,15,7]\n",
    "output = 3\n",
    "\n",
    "solution = Solution()\n",
    "result = binarytree2list(solution.maxDepth(list2binarytree(root)))\n",
    "if result == output:\n",
    "    print('Passed')\n",
    "else:\n",
    "    print('Failed')"
   ]
  },
  {
   "cell_type": "markdown",
   "metadata": {},
   "source": [
    "# Test case 2"
   ]
  },
  {
   "cell_type": "code",
   "execution_count": null,
   "metadata": {},
   "outputs": [
    {
     "name": "stdout",
     "output_type": "stream",
     "text": [
      "Passed\n"
     ]
    }
   ],
   "source": [
    "root = root = [1,None,2]\n",
    "output = 2\n",
    "\n",
    "solution = Solution()\n",
    "result = binarytree2list(solution.maxDepth(list2binarytree(root)))\n",
    "if result == output:\n",
    "    print('Passed')\n",
    "else:\n",
    "    print('Failed')"
   ]
  },
  {
   "cell_type": "code",
   "execution_count": 4,
   "metadata": {},
   "outputs": [
    {
     "name": "stdout",
     "output_type": "stream",
     "text": [
      "Completed 33 problems!\n"
     ]
    }
   ],
   "source": [
    "import glob\n",
    "\n",
    "def count_files(extension):\n",
    "    files = glob.glob(f'./*.{extension}')\n",
    "    return len(files)\n",
    "\n",
    "print(f'Completed {count_files(\"ipynb\")} problems!')"
   ]
  }
 ],
 "metadata": {
  "kernelspec": {
   "display_name": "Python 3",
   "language": "python",
   "name": "python3"
  },
  "language_info": {
   "codemirror_mode": {
    "name": "ipython",
    "version": 3
   },
   "file_extension": ".py",
   "mimetype": "text/x-python",
   "name": "python",
   "nbconvert_exporter": "python",
   "pygments_lexer": "ipython3",
   "version": "3.11.7"
  }
 },
 "nbformat": 4,
 "nbformat_minor": 2
}
