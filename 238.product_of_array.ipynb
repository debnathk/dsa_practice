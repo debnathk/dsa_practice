{
 "cells": [
  {
   "cell_type": "markdown",
   "metadata": {},
   "source": [
    "# Description\n",
    "Given an integer array nums, return an array answer such that answer[i] is equal to the product of all the elements of nums except nums[i].\n",
    "\n",
    "The product of any prefix or suffix of nums is guaranteed to fit in a 32-bit integer.\n",
    "\n",
    "You must write an algorithm that runs in O(n) time and without using the division operation."
   ]
  },
  {
   "cell_type": "markdown",
   "metadata": {},
   "source": [
    "## Code"
   ]
  },
  {
   "cell_type": "code",
   "execution_count": 1,
   "metadata": {},
   "outputs": [],
   "source": [
    "class Solution:\n",
    "    def productExceptSelf(self, nums):\n",
    "        length = len(nums)\n",
    "        products = [1] * length\n",
    "        for i in range(1, length):\n",
    "            products[i] = products[i-1] * nums[i-1]\n",
    "\n",
    "        right = nums[-1]\n",
    "        for i in range(length-2, -1, -1):\n",
    "            products[i] *= right\n",
    "            right *= nums[i]\n",
    "        \n",
    "        return products"
   ]
  },
  {
   "cell_type": "markdown",
   "metadata": {},
   "source": [
    "## Explanation\n",
    "- Instead of calculating the element-wise multiplications again and again, we calculate the product of all the elements in the left of an element, and multiply it with the product of all the elements in the right of that element.\n",
    "- This strategy is implemented on an single list, instead of seperate left and right lists in the the above approach.\n",
    "- The time complexity is O(n)."
   ]
  },
  {
   "cell_type": "markdown",
   "metadata": {},
   "source": [
    "## Test case 1"
   ]
  },
  {
   "cell_type": "code",
   "execution_count": 2,
   "metadata": {},
   "outputs": [
    {
     "name": "stdout",
     "output_type": "stream",
     "text": [
      "Passed\n"
     ]
    }
   ],
   "source": [
    "nums = [1,2,3,4]\n",
    "output = [24,12,8,6]\n",
    "\n",
    "solution = Solution()\n",
    "result = solution.productExceptSelf(nums)\n",
    "if result == output:\n",
    "    print('Passed')\n",
    "else:\n",
    "    print('Failed')"
   ]
  },
  {
   "cell_type": "markdown",
   "metadata": {},
   "source": [
    "## Test case 2"
   ]
  },
  {
   "cell_type": "code",
   "execution_count": 3,
   "metadata": {},
   "outputs": [
    {
     "name": "stdout",
     "output_type": "stream",
     "text": [
      "Passed\n"
     ]
    }
   ],
   "source": [
    "nums = [-1,1,0,-3,3]\n",
    "output = [0,0,9,0,0]\n",
    "\n",
    "solution = Solution()\n",
    "result = solution.productExceptSelf(nums)\n",
    "if result == output:\n",
    "    print('Passed')\n",
    "else:\n",
    "    print('Failed')"
   ]
  },
  {
   "cell_type": "markdown",
   "metadata": {},
   "source": [
    "## Test case 3"
   ]
  },
  {
   "cell_type": "code",
   "execution_count": 4,
   "metadata": {},
   "outputs": [
    {
     "name": "stdout",
     "output_type": "stream",
     "text": [
      "Passed\n"
     ]
    }
   ],
   "source": [
    "nums = [2,3,4,5]\n",
    "output = [60,40,30,24]\n",
    "\n",
    "solution = Solution()\n",
    "result = solution.productExceptSelf(nums)\n",
    "if result == output:\n",
    "    print('Passed')\n",
    "else:\n",
    "    print('Failed')"
   ]
  }
 ],
 "metadata": {
  "kernelspec": {
   "display_name": "Python 3",
   "language": "python",
   "name": "python3"
  },
  "language_info": {
   "codemirror_mode": {
    "name": "ipython",
    "version": 3
   },
   "file_extension": ".py",
   "mimetype": "text/x-python",
   "name": "python",
   "nbconvert_exporter": "python",
   "pygments_lexer": "ipython3",
   "version": "3.8.10"
  }
 },
 "nbformat": 4,
 "nbformat_minor": 2
}
