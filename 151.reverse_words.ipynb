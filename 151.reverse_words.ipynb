{
 "cells": [
  {
   "cell_type": "markdown",
   "metadata": {},
   "source": [
    "# Description\n",
    "Given an input string s, reverse the order of the words.\n",
    "\n",
    "A word is defined as a sequence of non-space characters. The words in s will be separated by at least one space.\n",
    "\n",
    "Return a string of the words in reverse order concatenated by a single space.\n",
    "\n",
    "Note that s may contain leading or trailing spaces or multiple spaces between two words. The returned string should only have a single space separating the words. Do not include any extra spaces."
   ]
  },
  {
   "cell_type": "markdown",
   "metadata": {},
   "source": [
    "## Code"
   ]
  },
  {
   "cell_type": "code",
   "execution_count": 12,
   "metadata": {},
   "outputs": [],
   "source": [
    "class Solution(object):\n",
    "    def reverseWords(self, s):\n",
    "        \"\"\"\n",
    "        :type s: str\n",
    "        :rtype: str\n",
    "        \"\"\"\n",
    "        s_split = s.split()\n",
    "        return ' '.join(s_split[::-1])"
   ]
  },
  {
   "cell_type": "markdown",
   "metadata": {},
   "source": [
    "## Best solution"
   ]
  },
  {
   "cell_type": "code",
   "execution_count": 1,
   "metadata": {},
   "outputs": [],
   "source": [
    "class Solution:\n",
    "    def reverseWords(self, s: str) -> str:\n",
    "        # Trim the input string to remove leading and trailing spaces\n",
    "        i, j = 0, len(s) - 1\n",
    "        while i <= j and s[i] == ' ':\n",
    "            i += 1  # Find the first non-space character\n",
    "        while j >= i and s[j] == ' ':\n",
    "            j -= 1  # Find the last non-space character\n",
    "        s = s[i : j + 1]  # Extract the trimmed substring\n",
    "\n",
    "        # Split the trimmed string into words based on spaces\n",
    "        words = s.split()  # Tokenize the string into words\n",
    "\n",
    "        # Initialize the output string\n",
    "        out = []\n",
    "\n",
    "        # Iterate through the words in reverse order\n",
    "        for k in range(len(words) - 1, 0, -1):\n",
    "            # Append the current word and a space to the output\n",
    "            out.append(words[k])\n",
    "        # Append the first word to the output (without trailing space)\n",
    "        out.append(words[0])\n",
    "\n",
    "        return ' '.join(out)  # Concatenate the reversed words"
   ]
  },
  {
   "cell_type": "markdown",
   "metadata": {},
   "source": [
    "## Test case 1"
   ]
  },
  {
   "cell_type": "code",
   "execution_count": 13,
   "metadata": {},
   "outputs": [
    {
     "name": "stdout",
     "output_type": "stream",
     "text": [
      "Passed\n"
     ]
    }
   ],
   "source": [
    "s = \"the sky is blue\"\n",
    "output = 'blue is sky the'\n",
    "\n",
    "solution = Solution()\n",
    "result = solution.reverseWords(s)\n",
    "if result == output:\n",
    "    print('Passed')\n",
    "else:\n",
    "    print('Failed')"
   ]
  },
  {
   "cell_type": "markdown",
   "metadata": {},
   "source": [
    "## Test case 2"
   ]
  },
  {
   "cell_type": "code",
   "execution_count": 14,
   "metadata": {},
   "outputs": [
    {
     "name": "stdout",
     "output_type": "stream",
     "text": [
      "Passed\n"
     ]
    }
   ],
   "source": [
    "s = \"  hello world  \"\n",
    "output = \"world hello\"\n",
    "\n",
    "solution = Solution()\n",
    "result = solution.reverseWords(s)\n",
    "if result == output:\n",
    "    print('Passed')\n",
    "else:\n",
    "    print('Failed')"
   ]
  },
  {
   "cell_type": "markdown",
   "metadata": {},
   "source": [
    "## Test case 3"
   ]
  },
  {
   "cell_type": "code",
   "execution_count": 15,
   "metadata": {},
   "outputs": [
    {
     "name": "stdout",
     "output_type": "stream",
     "text": [
      "Passed\n"
     ]
    }
   ],
   "source": [
    "s = \"a good   example\"\n",
    "output = \"example good a\"\n",
    "\n",
    "solution = Solution()\n",
    "result = solution.reverseWords(s)\n",
    "if result == output:\n",
    "    print('Passed')\n",
    "else:\n",
    "    print('Failed')"
   ]
  }
 ],
 "metadata": {
  "kernelspec": {
   "display_name": "Python 3",
   "language": "python",
   "name": "python3"
  },
  "language_info": {
   "codemirror_mode": {
    "name": "ipython",
    "version": 3
   },
   "file_extension": ".py",
   "mimetype": "text/x-python",
   "name": "python",
   "nbconvert_exporter": "python",
   "pygments_lexer": "ipython3",
   "version": "3.8.10"
  }
 },
 "nbformat": 4,
 "nbformat_minor": 2
}
