{
 "cells": [
  {
   "cell_type": "markdown",
   "metadata": {},
   "source": [
    "# Description\n",
    "You are given a string s, which contains stars *.\n",
    "\n",
    "In one operation, you can:\n",
    "\n",
    "- Choose a star in s.\n",
    "- Remove the closest non-star character to its left, as well as remove the star itself.\n",
    "- Return the string after all stars have been removed.\n",
    "\n",
    "Note:\n",
    "\n",
    "- The input will be generated such that the operation is always possible.\n",
    "- It can be shown that the resulting string will always be unique.\n"
   ]
  },
  {
   "cell_type": "markdown",
   "metadata": {},
   "source": [
    "## Code"
   ]
  },
  {
   "cell_type": "code",
   "execution_count": 1,
   "metadata": {},
   "outputs": [],
   "source": [
    "class Solution(object):\n",
    "    def removeStars(self, s):\n",
    "        \"\"\"\n",
    "        :type s: str\n",
    "        :rtype: str\n",
    "        \"\"\"\n",
    "        ans=[]\n",
    "        for i in s:\n",
    "            if i=='*':\n",
    "                ans.pop()\n",
    "            else:\n",
    "                ans+=[i]\n",
    "        return \"\".join(ans)"
   ]
  },
  {
   "cell_type": "markdown",
   "metadata": {},
   "source": [
    "# Explanation\n",
    "- Maintain a list to track the final string\n",
    "- If * exists in the original string, pop the last element in the list\n",
    "- Finally, return the joined string as answer."
   ]
  },
  {
   "cell_type": "markdown",
   "metadata": {},
   "source": [
    "## Test case 1"
   ]
  },
  {
   "cell_type": "code",
   "execution_count": 2,
   "metadata": {},
   "outputs": [
    {
     "name": "stdout",
     "output_type": "stream",
     "text": [
      "Passed\n"
     ]
    }
   ],
   "source": [
    "s = \"leet**cod*e\"\n",
    "output = \"lecoe\"\n",
    "\n",
    "solution = Solution()\n",
    "result = solution.removeStars(s)\n",
    "if result == output:\n",
    "    print('Passed')\n",
    "else:\n",
    "    print('Failed')"
   ]
  },
  {
   "cell_type": "markdown",
   "metadata": {},
   "source": [
    "## Test case 2"
   ]
  },
  {
   "cell_type": "code",
   "execution_count": 3,
   "metadata": {},
   "outputs": [
    {
     "name": "stdout",
     "output_type": "stream",
     "text": [
      "Passed\n"
     ]
    }
   ],
   "source": [
    "s = \"erase*****\"\n",
    "output = \"\"\n",
    "\n",
    "solution = Solution()\n",
    "result = solution.removeStars(s)\n",
    "if result == output:\n",
    "    print('Passed')\n",
    "else:\n",
    "    print('Failed')"
   ]
  },
  {
   "cell_type": "markdown",
   "metadata": {},
   "source": [
    "## Test case 3"
   ]
  },
  {
   "cell_type": "code",
   "execution_count": 4,
   "metadata": {},
   "outputs": [
    {
     "name": "stdout",
     "output_type": "stream",
     "text": [
      "Completed 24 problems!\n"
     ]
    }
   ],
   "source": [
    "import glob\n",
    "\n",
    "def count_files(extension):\n",
    "    files = glob.glob(f'./*.{extension}')\n",
    "    return len(files)\n",
    "\n",
    "print(f'Completed {count_files(\"ipynb\")} problems!')"
   ]
  }
 ],
 "metadata": {
  "kernelspec": {
   "display_name": "Python 3",
   "language": "python",
   "name": "python3"
  },
  "language_info": {
   "codemirror_mode": {
    "name": "ipython",
    "version": 3
   },
   "file_extension": ".py",
   "mimetype": "text/x-python",
   "name": "python",
   "nbconvert_exporter": "python",
   "pygments_lexer": "ipython3",
   "version": "3.11.7"
  }
 },
 "nbformat": 4,
 "nbformat_minor": 2
}
