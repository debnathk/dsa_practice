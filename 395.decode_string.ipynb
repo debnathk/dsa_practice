{
 "cells": [
  {
   "cell_type": "markdown",
   "metadata": {},
   "source": [
    "# Description\n",
    "Given an encoded string, return its decoded string.\n",
    "\n",
    "The encoding rule is: k[encoded_string], where the encoded_string inside the square brackets is being repeated exactly k times. Note that k is guaranteed to be a positive integer.\n",
    "\n",
    "You may assume that the input string is always valid; there are no extra white spaces, square brackets are well-formed, etc. Furthermore, you may assume that the original data does not contain any digits and that digits are only for those repeat numbers, k. For example, there will not be input like 3a or 2[4].\n",
    "\n",
    "The test cases are generated so that the length of the output will never exceed 10<sup>5</sup>.\n"
   ]
  },
  {
   "cell_type": "markdown",
   "metadata": {},
   "source": [
    "## Code"
   ]
  },
  {
   "cell_type": "code",
   "execution_count": 18,
   "metadata": {},
   "outputs": [],
   "source": [
    "class Solution(object):\n",
    "    def decodeString(self, s):\n",
    "        \"\"\"\n",
    "        :type s: str\n",
    "        :rtype: str\n",
    "        \"\"\"\n",
    "        curr_num = 0\n",
    "        res = \"\"\n",
    "        stack = []\n",
    "        for c in s:\n",
    "            if c.isdigit():\n",
    "                curr_num = curr_num * 10 + int(c)\n",
    "            elif c == '[':\n",
    "                stack.append(curr_num)\n",
    "                stack.append(res)\n",
    "                curr_num = 0\n",
    "                res = \"\"\n",
    "            elif c == ']':\n",
    "                res = stack.pop() + res * stack.pop()\n",
    "            else:\n",
    "                res += c\n",
    "        \n",
    "        return res"
   ]
  },
  {
   "cell_type": "markdown",
   "metadata": {},
   "source": [
    "# Explanation\n",
    "- Initialize variable *curr_num* to track the current numeric, *res* to store the resultant decoded string, and *stack* to track the status of the stack in operation.\n",
    "- While loop through the encoded string:\n",
    "    - If current element is a digit, save it to *curr_sum*\n",
    "    - If current element is a '[', push the *curr_num* and *res* to the *stack*\n",
    "    - If current element is a ']', pop the decoded string from *stack* to *res*\n",
    "    - If currenet element is a char, append it to the *res*\n",
    "- Finally, return the *res* as desired output.\n",
    "The visual explanation of the status of each variable in each iteration is given below:"
   ]
  },
  {
   "cell_type": "code",
   "execution_count": 16,
   "metadata": {},
   "outputs": [
    {
     "name": "stdout",
     "output_type": "stream",
     "text": [
      "c\tcurr_num\tres\tstack\n",
      "3\t3\t\t\t[]\n",
      "[\t0\t\t\t[3, '']\n",
      "a\t0\t\ta\t[3, '']\n",
      "]\t0\t\taaa\t[]\n",
      "2\t2\t\taaa\t[]\n",
      "[\t0\t\t\t[2, 'aaa']\n",
      "b\t0\t\tb\t[2, 'aaa']\n",
      "c\t0\t\tbc\t[2, 'aaa']\n",
      "]\t0\t\taaabcbc\t[]\n"
     ]
    }
   ],
   "source": [
    "s = \"3[a]2[bc]\"\n",
    "output = 'aaabcbc'\n",
    "\n",
    "curr_num = 0\n",
    "res = \"\"\n",
    "stack = []\n",
    "print(\"c\\tcurr_num\\tres\\tstack\")\n",
    "for c in s:\n",
    "    if c.isdigit():\n",
    "        curr_num = curr_num * 10 + int(c)\n",
    "    elif c == '[': # Dump material to stack\n",
    "        stack.append(curr_num)\n",
    "        stack.append(res)\n",
    "        curr_num = 0\n",
    "        res = \"\"\n",
    "    elif c == ']': # Dump decoded material back to res from stack\n",
    "        res = stack.pop() + res * stack.pop()\n",
    "    else:\n",
    "        res += c\n",
    "    print(f'{c}\\t{curr_num}\\t\\t{res}\\t{stack}')\n",
    "\n",
    "# print(res)"
   ]
  },
  {
   "cell_type": "markdown",
   "metadata": {},
   "source": [
    "## Test case 1"
   ]
  },
  {
   "cell_type": "code",
   "execution_count": 20,
   "metadata": {},
   "outputs": [
    {
     "name": "stdout",
     "output_type": "stream",
     "text": [
      "Passed\n"
     ]
    }
   ],
   "source": [
    "s = \"3[a]2[bc]\"\n",
    "output = 'aaabcbc'\n",
    "\n",
    "solution = Solution()\n",
    "result = solution.decodeString(s)\n",
    "if result == output:\n",
    "    print('Passed')\n",
    "else:\n",
    "    print('Failed')"
   ]
  },
  {
   "cell_type": "markdown",
   "metadata": {},
   "source": [
    "## Test case 2"
   ]
  },
  {
   "cell_type": "code",
   "execution_count": 23,
   "metadata": {},
   "outputs": [
    {
     "name": "stdout",
     "output_type": "stream",
     "text": [
      "Passed\n"
     ]
    }
   ],
   "source": [
    "s = \"3[a2[c]]\"\n",
    "output = 'accaccacc'\n",
    "\n",
    "solution = Solution()\n",
    "result = solution.decodeString(s)\n",
    "if result == output:\n",
    "    print('Passed')\n",
    "else:\n",
    "    print('Failed')"
   ]
  },
  {
   "cell_type": "markdown",
   "metadata": {},
   "source": [
    "## Test case 3"
   ]
  },
  {
   "cell_type": "code",
   "execution_count": 24,
   "metadata": {},
   "outputs": [
    {
     "name": "stdout",
     "output_type": "stream",
     "text": [
      "Passed\n"
     ]
    }
   ],
   "source": [
    "s = \"2[abc]3[cd]ef\"\n",
    "output = 'abcabccdcdcdef'\n",
    "\n",
    "solution = Solution()\n",
    "result = solution.decodeString(s)\n",
    "if result == output:\n",
    "    print('Passed')\n",
    "else:\n",
    "    print('Failed')"
   ]
  },
  {
   "cell_type": "code",
   "execution_count": 25,
   "metadata": {},
   "outputs": [
    {
     "name": "stdout",
     "output_type": "stream",
     "text": [
      "Completed 26 problems!\n"
     ]
    }
   ],
   "source": [
    "import glob\n",
    "\n",
    "def count_files(extension):\n",
    "    files = glob.glob(f'./*.{extension}')\n",
    "    return len(files)\n",
    "\n",
    "print(f'Completed {count_files(\"ipynb\")} problems!')"
   ]
  }
 ],
 "metadata": {
  "kernelspec": {
   "display_name": "Python 3",
   "language": "python",
   "name": "python3"
  },
  "language_info": {
   "codemirror_mode": {
    "name": "ipython",
    "version": 3
   },
   "file_extension": ".py",
   "mimetype": "text/x-python",
   "name": "python",
   "nbconvert_exporter": "python",
   "pygments_lexer": "ipython3",
   "version": "3.11.7"
  }
 },
 "nbformat": 4,
 "nbformat_minor": 2
}
