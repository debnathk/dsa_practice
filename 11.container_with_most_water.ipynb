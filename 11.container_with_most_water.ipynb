{
 "cells": [
  {
   "cell_type": "markdown",
   "metadata": {},
   "source": [
    "# Description\n",
    "You are given an integer array height of length n. There are n vertical lines drawn such that the two endpoints of the ith line are (i, 0) and (i, height[i]).\n",
    "\n",
    "Find two lines that together with the x-axis form a container, such that the container contains the most water.\n",
    "\n",
    "Return the maximum amount of water a container can store.\n",
    "\n",
    "Notice that you may not slant the container.\n"
   ]
  },
  {
   "cell_type": "markdown",
   "metadata": {},
   "source": [
    "## Code"
   ]
  },
  {
   "cell_type": "code",
   "execution_count": 1,
   "metadata": {},
   "outputs": [],
   "source": [
    "class Solution(object):\n",
    "    def maxArea(self, height):\n",
    "        \"\"\"\n",
    "        :type height: List[int]\n",
    "        :rtype: int\n",
    "        \"\"\"\n",
    "        i = 0\n",
    "        j = len(height)-1\n",
    "        max_amt = 0\n",
    "\n",
    "        while (i < j):\n",
    "            if height[i] <= height[j]:\n",
    "                res = height[i] * (j-i)\n",
    "                i += 1\n",
    "            else:\n",
    "                res = height[j] * (j-i)\n",
    "                j -= 1\n",
    "            if res > max_amt : max_amt = res\n",
    "\n",
    "        return max_amt"
   ]
  },
  {
   "cell_type": "markdown",
   "metadata": {},
   "source": [
    "## Explanation\n",
    "- Set the i to be the first position of the array, and j to be the last position of the array, and set the max_amt to be 0.\n",
    "- If height[i] > height[j], we will increase i by 1, if not, decrease j by 1.\n",
    "- We store the result in res variable, if res > max-amt, update max_amt = res.\n",
    "- Run the loop till i < j.\n",
    "> The approach is thus a **2-pointer sliding window approach.**"
   ]
  },
  {
   "cell_type": "markdown",
   "metadata": {},
   "source": [
    "## Test case 1"
   ]
  },
  {
   "cell_type": "code",
   "execution_count": 3,
   "metadata": {},
   "outputs": [
    {
     "name": "stdout",
     "output_type": "stream",
     "text": [
      "Passed\n"
     ]
    }
   ],
   "source": [
    "height = [1,8,6,2,5,4,8,3,7]\n",
    "output = 49\n",
    "\n",
    "solution = Solution()\n",
    "result = solution.maxArea(height)\n",
    "if result == output:\n",
    "    print('Passed')\n",
    "else:\n",
    "    print('Failed')"
   ]
  },
  {
   "cell_type": "markdown",
   "metadata": {},
   "source": [
    "## Test case 2"
   ]
  },
  {
   "cell_type": "code",
   "execution_count": 4,
   "metadata": {},
   "outputs": [
    {
     "name": "stdout",
     "output_type": "stream",
     "text": [
      "Passed\n"
     ]
    }
   ],
   "source": [
    "height = [1,1]\n",
    "output = 1\n",
    "\n",
    "solution = Solution()\n",
    "result = solution.maxArea(height)\n",
    "if result == output:\n",
    "    print('Passed')\n",
    "else:\n",
    "    print('Failed')"
   ]
  },
  {
   "cell_type": "markdown",
   "metadata": {},
   "source": [
    "## Test case 3"
   ]
  },
  {
   "cell_type": "code",
   "execution_count": 5,
   "metadata": {},
   "outputs": [
    {
     "name": "stdout",
     "output_type": "stream",
     "text": [
      "Passed\n"
     ]
    }
   ],
   "source": [
    "height = [1,2,1]\n",
    "output = 2\n",
    "\n",
    "solution = Solution()\n",
    "result = solution.maxArea(height)\n",
    "if result == output:\n",
    "    print('Passed')\n",
    "else:\n",
    "    print('Failed')"
   ]
  }
 ],
 "metadata": {
  "kernelspec": {
   "display_name": "Python 3",
   "language": "python",
   "name": "python3"
  },
  "language_info": {
   "codemirror_mode": {
    "name": "ipython",
    "version": 3
   },
   "file_extension": ".py",
   "mimetype": "text/x-python",
   "name": "python",
   "nbconvert_exporter": "python",
   "pygments_lexer": "ipython3",
   "version": "3.8.10"
  }
 },
 "nbformat": 4,
 "nbformat_minor": 2
}
