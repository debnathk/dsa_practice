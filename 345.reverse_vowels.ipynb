{
 "cells": [
  {
   "cell_type": "markdown",
   "metadata": {},
   "source": [
    "# Description\n",
    "Given a string s, reverse only all the vowels in the string and return it.\n",
    "\n",
    "The vowels are 'a', 'e', 'i', 'o', and 'u', and they can appear in both lower and upper cases, more than once."
   ]
  },
  {
   "cell_type": "markdown",
   "metadata": {},
   "source": [
    "## Code"
   ]
  },
  {
   "cell_type": "code",
   "execution_count": 41,
   "metadata": {},
   "outputs": [],
   "source": [
    "class Solution(object):\n",
    "    def reverseVowels(self, s):\n",
    "        \"\"\"\n",
    "        :type s: str\n",
    "        :rtype: str\n",
    "        \"\"\"\n",
    "        vowels = ['a', 'e', 'i', 'o', 'u']\n",
    "        string = list(s)\n",
    "\n",
    "        vs = [''] * len(string)\n",
    "        idx = []\n",
    "\n",
    "        for i in range(len(string)):\n",
    "            if string[i].lower() in vowels:\n",
    "                vs[i] = string[i]\n",
    "                idx.append(i)\n",
    "\n",
    "        vs_rev_i = vs[::-1]\n",
    "        vs_rev = [v for v in vs_rev_i if v != '']\n",
    "        vs_rev_f = [''] * len(vs)\n",
    "\n",
    "        for id,v in zip(idx, vs_rev):\n",
    "            if v.lower() != '':\n",
    "                vs_rev_f[id] = v\n",
    "\n",
    "        for i in range(len(string)):\n",
    "            if string[i].lower() in vowels:\n",
    "                string[i] = vs_rev_f[i]\n",
    "\n",
    "        return ''.join(string)\n",
    "                "
   ]
  },
  {
   "cell_type": "markdown",
   "metadata": {},
   "source": [
    "## Test case 1"
   ]
  },
  {
   "cell_type": "code",
   "execution_count": 42,
   "metadata": {},
   "outputs": [
    {
     "name": "stdout",
     "output_type": "stream",
     "text": [
      "Passed\n"
     ]
    }
   ],
   "source": [
    "s = 'hello'\n",
    "output = 'holle'\n",
    "\n",
    "solution = Solution()\n",
    "result = solution.reverseVowels(s)\n",
    "if result == output:\n",
    "    print('Passed')\n",
    "else:\n",
    "    print('Failed')"
   ]
  },
  {
   "cell_type": "markdown",
   "metadata": {},
   "source": [
    "## Test case 2"
   ]
  },
  {
   "cell_type": "code",
   "execution_count": 43,
   "metadata": {},
   "outputs": [
    {
     "name": "stdout",
     "output_type": "stream",
     "text": [
      "Passed\n"
     ]
    }
   ],
   "source": [
    "s = 'leetcode'\n",
    "output = 'leotcede'\n",
    "\n",
    "solution = Solution()\n",
    "result = solution.reverseVowels(s)\n",
    "if result == output:\n",
    "    print('Passed')\n",
    "else:\n",
    "    print('Failed')"
   ]
  },
  {
   "cell_type": "markdown",
   "metadata": {},
   "source": [
    "## Test case 3"
   ]
  },
  {
   "cell_type": "code",
   "execution_count": 44,
   "metadata": {},
   "outputs": [
    {
     "name": "stdout",
     "output_type": "stream",
     "text": [
      "Passed\n"
     ]
    }
   ],
   "source": [
    "s = 'lOve'\n",
    "output = 'levO'\n",
    "\n",
    "solution = Solution()\n",
    "result = solution.reverseVowels(s)\n",
    "if result == output:\n",
    "    print('Passed')\n",
    "else:\n",
    "    print('Failed')"
   ]
  }
 ],
 "metadata": {
  "kernelspec": {
   "display_name": "Python 3",
   "language": "python",
   "name": "python3"
  },
  "language_info": {
   "codemirror_mode": {
    "name": "ipython",
    "version": 3
   },
   "file_extension": ".py",
   "mimetype": "text/x-python",
   "name": "python",
   "nbconvert_exporter": "python",
   "pygments_lexer": "ipython3",
   "version": "3.8.10"
  }
 },
 "nbformat": 4,
 "nbformat_minor": 2
}
