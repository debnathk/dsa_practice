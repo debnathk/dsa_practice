{
 "cells": [
  {
   "cell_type": "markdown",
   "metadata": {},
   "source": [
    "# Description\n",
    "In the world of Dota2, there are two parties: the Radiant and the Dire.\n",
    "\n",
    "The Dota2 senate consists of senators coming from two parties. Now the Senate wants to decide on a change in the Dota2 game. The voting for this change is a round-based procedure. In each round, each senator can exercise one of the two rights:\n",
    "\n",
    "Ban one senator's right: A senator can make another senator lose all his rights in this and all the following rounds.\n",
    "Announce the victory: If this senator found the senators who still have rights to vote are all from the same party, he can announce the victory and decide on the change in the game.\n",
    "Given a string senate representing each senator's party belonging. The character 'R' and 'D' represent the Radiant party and the Dire party. Then if there are n senators, the size of the given string will be n.\n",
    "\n",
    "The round-based procedure starts from the first senator to the last senator in the given order. This procedure will last until the end of voting. All the senators who have lost their rights will be skipped during the procedure.\n",
    "\n",
    "Suppose every senator is smart enough and will play the best strategy for his own party. Predict which party will finally announce the victory and change the Dota2 game. The output should be \"Radiant\" or \"Dire\".\n"
   ]
  },
  {
   "cell_type": "markdown",
   "metadata": {},
   "source": [
    "## Code"
   ]
  },
  {
   "cell_type": "code",
   "execution_count": 2,
   "metadata": {},
   "outputs": [],
   "source": [
    "from collections import deque\n",
    "\n",
    "class Solution(object):\n",
    "    def predictPartyVictory(self, senate):\n",
    "        \"\"\"\n",
    "        :type senate: str\n",
    "        :rtype: str\n",
    "        \"\"\"\n",
    "        senate = list(senate)\n",
    "        # Initiate the ques\n",
    "        D, R = deque(), deque()\n",
    "\n",
    "        # Populate the ques\n",
    "        for i, c in enumerate(senate):\n",
    "            if c == \"R\":\n",
    "                R.append(i)\n",
    "            else:\n",
    "                D.append(i)\n",
    "\n",
    "        # Perform operation\n",
    "        while R and D:\n",
    "            rTurn = R.popleft()\n",
    "            dTurn = D.popleft()\n",
    "\n",
    "            if rTurn < dTurn:\n",
    "                R.append(rTurn + len(senate))\n",
    "            else:\n",
    "                D.append(dTurn + len(senate))\n",
    "\n",
    "        # Return result\n",
    "        return \"Radiant\" if R else \"Dire\""
   ]
  },
  {
   "cell_type": "markdown",
   "metadata": {},
   "source": [
    "# Explanation\n",
    "- Initiate and populate ques for storing index values of Rs and Ds.\n",
    "- Pop the head of both ques in each iteration:\n",
    "    - If rTurn value (index) is less than dTurn, push adjusted rTurn value to the R que, and vice versa.\n",
    "- Finally, stop the loop when either of the ques becme empty, and return the party name associated with the non-empty que."
   ]
  },
  {
   "cell_type": "markdown",
   "metadata": {},
   "source": [
    "# Test case 1"
   ]
  },
  {
   "cell_type": "code",
   "execution_count": 3,
   "metadata": {},
   "outputs": [
    {
     "name": "stdout",
     "output_type": "stream",
     "text": [
      "Passed\n"
     ]
    }
   ],
   "source": [
    "senate = \"RD\"\n",
    "output = \"Radiant\"\n",
    "\n",
    "solution = Solution()\n",
    "result = solution.predictPartyVictory(senate)\n",
    "if result == output:\n",
    "    print('Passed')\n",
    "else:\n",
    "    print('Failed')"
   ]
  },
  {
   "cell_type": "markdown",
   "metadata": {},
   "source": [
    "# Test case 2"
   ]
  },
  {
   "cell_type": "code",
   "execution_count": 5,
   "metadata": {},
   "outputs": [
    {
     "name": "stdout",
     "output_type": "stream",
     "text": [
      "Passed\n"
     ]
    }
   ],
   "source": [
    "senate = \"RDD\"\n",
    "output = \"Dire\"\n",
    "\n",
    "solution = Solution()\n",
    "result = solution.predictPartyVictory(senate)\n",
    "if result == output:\n",
    "    print('Passed')\n",
    "else:\n",
    "    print('Failed')"
   ]
  },
  {
   "cell_type": "markdown",
   "metadata": {},
   "source": [
    "# Test case 3"
   ]
  },
  {
   "cell_type": "code",
   "execution_count": 6,
   "metadata": {},
   "outputs": [
    {
     "name": "stdout",
     "output_type": "stream",
     "text": [
      "Passed\n"
     ]
    }
   ],
   "source": [
    "senate = \"R\"\n",
    "output = \"Radiant\"\n",
    "\n",
    "solution = Solution()\n",
    "result = solution.predictPartyVictory(senate)\n",
    "if result == output:\n",
    "    print('Passed')\n",
    "else:\n",
    "    print('Failed')"
   ]
  },
  {
   "cell_type": "code",
   "execution_count": 7,
   "metadata": {},
   "outputs": [
    {
     "name": "stdout",
     "output_type": "stream",
     "text": [
      "Completed 28 problems!\n"
     ]
    }
   ],
   "source": [
    "import glob\n",
    "\n",
    "def count_files(extension):\n",
    "    files = glob.glob(f'./*.{extension}')\n",
    "    return len(files)\n",
    "\n",
    "print(f'Completed {count_files(\"ipynb\")} problems!')"
   ]
  }
 ],
 "metadata": {
  "kernelspec": {
   "display_name": "Python 3",
   "language": "python",
   "name": "python3"
  },
  "language_info": {
   "codemirror_mode": {
    "name": "ipython",
    "version": 3
   },
   "file_extension": ".py",
   "mimetype": "text/x-python",
   "name": "python",
   "nbconvert_exporter": "python",
   "pygments_lexer": "ipython3",
   "version": "3.11.7"
  }
 },
 "nbformat": 4,
 "nbformat_minor": 2
}
