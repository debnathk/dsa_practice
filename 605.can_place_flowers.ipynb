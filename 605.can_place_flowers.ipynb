{
 "cells": [
  {
   "cell_type": "markdown",
   "metadata": {},
   "source": [
    "# Description\n",
    "You have a long flowerbed in which some of the plots are planted, and some are not. However, flowers cannot be planted in adjacent plots.\n",
    "\n",
    "Given an integer array flowerbed containing 0's and 1's, where 0 means empty and 1 means not empty, and an integer n, return true if n new flowers can be planted in the flowerbed without violating the no-adjacent-flowers rule and false otherwise."
   ]
  },
  {
   "cell_type": "markdown",
   "metadata": {},
   "source": [
    "## Code"
   ]
  },
  {
   "cell_type": "code",
   "execution_count": 51,
   "metadata": {},
   "outputs": [],
   "source": [
    "class Solution(object):\n",
    "    def canPlaceFlowers(self, flowerbed, n):\n",
    "        \"\"\"\n",
    "        :type flowerbed: List[int]\n",
    "        :type n: int\n",
    "        :rtype: bool\n",
    "        \"\"\"\n",
    "        count = []\n",
    "        for i in range(len(flowerbed)):\n",
    "            if flowerbed[i] == 1:\n",
    "                continue\n",
    "            if i == 0 and i==(len(flowerbed)-1):\n",
    "                count.append(i)\n",
    "                flowerbed[i] = 1\n",
    "            elif i == 0 and flowerbed[i+1] != 1:\n",
    "                count.append(i)\n",
    "                flowerbed[i] = 1\n",
    "            elif i==(len(flowerbed)-1) and flowerbed[i-1] != 1:\n",
    "                count.append(i)\n",
    "                flowerbed[i] = 1\n",
    "            elif flowerbed[i-1] != 1 and flowerbed[i+1] != 1:\n",
    "                count.append(i)\n",
    "                flowerbed[i] = 1\n",
    "\n",
    "        if n <= len(count):\n",
    "            return True\n",
    "        else:\n",
    "            return False"
   ]
  },
  {
   "cell_type": "markdown",
   "metadata": {},
   "source": [
    "## Test case 1"
   ]
  },
  {
   "cell_type": "code",
   "execution_count": 52,
   "metadata": {},
   "outputs": [
    {
     "name": "stdout",
     "output_type": "stream",
     "text": [
      "Passed\n"
     ]
    }
   ],
   "source": [
    "flowerbed = [1,0,0,0,1]\n",
    "n = 1\n",
    "output = True\n",
    "\n",
    "solution = Solution()\n",
    "result = solution.canPlaceFlowers(flowerbed, n)\n",
    "if result == output:\n",
    "    print('Passed')\n",
    "else:\n",
    "    print('Failed')"
   ]
  },
  {
   "cell_type": "markdown",
   "metadata": {},
   "source": [
    "## Test case 2"
   ]
  },
  {
   "cell_type": "code",
   "execution_count": 53,
   "metadata": {},
   "outputs": [
    {
     "name": "stdout",
     "output_type": "stream",
     "text": [
      "Passed\n"
     ]
    }
   ],
   "source": [
    "flowerbed = [1,0,0,0,1,0,0]\n",
    "n = 2\n",
    "output = True\n",
    "\n",
    "solution = Solution()\n",
    "result = solution.canPlaceFlowers(flowerbed, n)\n",
    "if result == output:\n",
    "    print('Passed')\n",
    "else:\n",
    "    print('Failed')"
   ]
  },
  {
   "cell_type": "markdown",
   "metadata": {},
   "source": [
    "## Test case 3"
   ]
  },
  {
   "cell_type": "code",
   "execution_count": 54,
   "metadata": {},
   "outputs": [
    {
     "name": "stdout",
     "output_type": "stream",
     "text": [
      "Passed\n"
     ]
    }
   ],
   "source": [
    "flowerbed = [0,0,1,0,1]\n",
    "n = 1\n",
    "output = True\n",
    "\n",
    "solution = Solution()\n",
    "result = solution.canPlaceFlowers(flowerbed, n)\n",
    "if result == output:\n",
    "    print('Passed')\n",
    "else:\n",
    "    print('Failed')"
   ]
  }
 ],
 "metadata": {
  "kernelspec": {
   "display_name": "Python 3",
   "language": "python",
   "name": "python3"
  },
  "language_info": {
   "codemirror_mode": {
    "name": "ipython",
    "version": 3
   },
   "file_extension": ".py",
   "mimetype": "text/x-python",
   "name": "python",
   "nbconvert_exporter": "python",
   "pygments_lexer": "ipython3",
   "version": "3.8.10"
  }
 },
 "nbformat": 4,
 "nbformat_minor": 2
}
