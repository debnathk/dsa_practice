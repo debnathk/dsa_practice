{
 "cells": [
  {
   "cell_type": "markdown",
   "metadata": {},
   "source": [
    "# Description\n",
    "You are given an integer array nums and an integer k.\n",
    "\n",
    "In one operation, you can pick two numbers from the array whose sum equals k and remove them from the array.\n",
    "\n",
    "Return the maximum number of operations you can perform on the array.\n"
   ]
  },
  {
   "cell_type": "markdown",
   "metadata": {},
   "source": [
    "## Code"
   ]
  },
  {
   "cell_type": "code",
   "execution_count": 43,
   "metadata": {},
   "outputs": [],
   "source": [
    "from collections import Counter\n",
    "\n",
    "class Solution:\n",
    "    def maxOperations(self, nums, k):\n",
    "        res, d = 0, Counter(nums)\n",
    "        for val1, cnt in d.items():\n",
    "            val2 = k - val1\n",
    "            # it's trick to get rid of duplicates pairs, consider only pairs where val1 >= val2\n",
    "            if val2 < val1 or val2 not in d: continue \n",
    "            res += min(cnt, d[val2]) if val1 != val2 else cnt//2\n",
    "        \n",
    "        return res"
   ]
  },
  {
   "cell_type": "markdown",
   "metadata": {},
   "source": [
    "# Explanation\n",
    "\n",
    "1. `from collections import Counter`: This line imports the `Counter` class from the `collections` module. `Counter` is a dictionary subclass for counting hashable objects.\n",
    "\n",
    "2. `nums = [1,2,3,4]`: This line initializes the list `nums` with the values 1, 2, 3, and 4.\n",
    "\n",
    "3. `k = 5`: This line sets the variable `k` to 5.\n",
    "\n",
    "4. `res, d = 0, Counter(nums)`: This line does two things. It initializes `res` to 0 and `d` to a `Counter` object of `nums`. `Counter(nums)` counts the frequency of each number in `nums` and stores it in a dictionary-like object.\n",
    "\n",
    "5. `for val1, cnt in d.items()`: This line starts a loop that iterates over each key-value pair in `d`. `val1` is the key (a number from `nums`) and `cnt` is the value (the count of that number).\n",
    "\n",
    "6. `val2 = k - val1`: This line calculates the value of `val2` by subtracting `val1` from `k`.\n",
    "\n",
    "7. `if val2 < val1 or val2 not in d: continue`: This line checks if `val2` is less than `val1` or if `val2` is not a key in `d`. If either condition is true, it skips the rest of the loop for the current iteration.\n",
    "\n",
    "8. `res += min(cnt, d[val2]) if val1 != val2 else cnt//2`: This line increments `res` by the minimum of `cnt` and `d[val2]` if `val1` is not equal to `val2`. If `val1` is equal to `val2`, it increments `res` by `cnt` divided by 2 (integer division).\n",
    "\n",
    "9. `print(res)`: This line prints the value of `res`.\n",
    "\n",
    "The overall purpose of this code is to count the number of pairs in `nums` that add up to `k`. It avoids counting duplicate pairs by only considering pairs where `val1` is greater than or equal to `val2`."
   ]
  },
  {
   "cell_type": "markdown",
   "metadata": {},
   "source": [
    "## Test case 1"
   ]
  },
  {
   "cell_type": "code",
   "execution_count": 44,
   "metadata": {},
   "outputs": [
    {
     "name": "stdout",
     "output_type": "stream",
     "text": [
      "Passed\n"
     ]
    }
   ],
   "source": [
    "nums = [1,2,3,4]\n",
    "k = 5\n",
    "output = 2\n",
    "\n",
    "solution = Solution()\n",
    "result = solution.maxOperations(nums, k)\n",
    "if result == output:\n",
    "    print('Passed')\n",
    "else:\n",
    "    print('Failed')"
   ]
  },
  {
   "cell_type": "markdown",
   "metadata": {},
   "source": [
    "## Test case 2"
   ]
  },
  {
   "cell_type": "code",
   "execution_count": 45,
   "metadata": {},
   "outputs": [
    {
     "name": "stdout",
     "output_type": "stream",
     "text": [
      "Passed\n"
     ]
    }
   ],
   "source": [
    "nums = [3,1,3,4,3]\n",
    "k = 6\n",
    "output = 1\n",
    "\n",
    "solution = Solution()\n",
    "result = solution.maxOperations(nums, k)\n",
    "if result == output:\n",
    "    print('Passed')\n",
    "else:\n",
    "    print('Failed')"
   ]
  },
  {
   "cell_type": "markdown",
   "metadata": {},
   "source": [
    "## Test case 3"
   ]
  },
  {
   "cell_type": "code",
   "execution_count": 46,
   "metadata": {},
   "outputs": [
    {
     "name": "stdout",
     "output_type": "stream",
     "text": [
      "Passed\n"
     ]
    }
   ],
   "source": [
    "nums = [2,2,2,3,1,1,4,1]\n",
    "k = 4\n",
    "output = 2\n",
    "\n",
    "solution = Solution()\n",
    "result = solution.maxOperations(nums, k)\n",
    "if result == output:\n",
    "    print('Passed')\n",
    "else:\n",
    "    print('Failed')"
   ]
  }
 ],
 "metadata": {
  "kernelspec": {
   "display_name": "Python 3",
   "language": "python",
   "name": "python3"
  },
  "language_info": {
   "codemirror_mode": {
    "name": "ipython",
    "version": 3
   },
   "file_extension": ".py",
   "mimetype": "text/x-python",
   "name": "python",
   "nbconvert_exporter": "python",
   "pygments_lexer": "ipython3",
   "version": "3.8.10"
  }
 },
 "nbformat": 4,
 "nbformat_minor": 2
}
