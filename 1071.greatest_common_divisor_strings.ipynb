{
 "cells": [
  {
   "cell_type": "markdown",
   "metadata": {},
   "source": [
    "## Code"
   ]
  },
  {
   "cell_type": "code",
   "execution_count": 30,
   "metadata": {},
   "outputs": [],
   "source": [
    "class Solution(object):\n",
    "    def gcdOfStrings(self, str1, str2):\n",
    "        if str1 + str2 != str2 + str1:\n",
    "            return \"\"\n",
    "        if len(str1) == len(str2):\n",
    "            return str1\n",
    "        if len(str1) > len(str2):\n",
    "            return self.gcdOfStrings(str1[len(str2):], str2)\n",
    "        return self.gcdOfStrings(str1, str2[len(str1):])"
   ]
  },
  {
   "cell_type": "markdown",
   "metadata": {},
   "source": [
    "## Practicing..."
   ]
  },
  {
   "cell_type": "code",
   "execution_count": 29,
   "metadata": {},
   "outputs": [
    {
     "name": "stdout",
     "output_type": "stream",
     "text": [
      "ABC\n"
     ]
    },
    {
     "data": {
      "text/plain": [
       "(6, 3)"
      ]
     },
     "execution_count": 29,
     "metadata": {},
     "output_type": "execute_result"
    }
   ],
   "source": [
    "string1 = \"ABCABC\"\n",
    "string2 = \"ABC\"\n",
    "\n",
    "output = []\n",
    "\n",
    "minlength = min(len(string1), len(string2))\n",
    "\n",
    "for i in range(minlength):\n",
    "    if string1[i] == string2[i]:\n",
    "        output.append(string1[i])\n",
    "        \n",
    "if len(string1) % len(output) == 0 and len(string1) % len(output) == 0:\n",
    "    print(''.join(output))\n",
    "else:\n",
    "    print('Failed!')\n",
    "\n",
    "len(string1), len(output)\n",
    "# print(''.join(output))"
   ]
  },
  {
   "cell_type": "markdown",
   "metadata": {},
   "source": [
    "## Test case 1"
   ]
  },
  {
   "cell_type": "code",
   "execution_count": 31,
   "metadata": {},
   "outputs": [
    {
     "name": "stdout",
     "output_type": "stream",
     "text": [
      "Passed\n"
     ]
    }
   ],
   "source": [
    "string1 = \"ABC\"\n",
    "string2 = \"ABCABC\"\n",
    "output = \"ABC\"\n",
    "\n",
    "solution = Solution()\n",
    "result = solution.gcdOfStrings(string1, string2)\n",
    "if result == output:\n",
    "    print('Passed')\n",
    "else:\n",
    "    print('Failed')"
   ]
  },
  {
   "cell_type": "markdown",
   "metadata": {},
   "source": [
    "## Test case 2"
   ]
  },
  {
   "cell_type": "code",
   "execution_count": 32,
   "metadata": {},
   "outputs": [
    {
     "name": "stdout",
     "output_type": "stream",
     "text": [
      "Passed\n"
     ]
    }
   ],
   "source": [
    "string1 = \"ABABAB\"\n",
    "string2 = \"ABAB\"\n",
    "output = \"AB\"\n",
    "\n",
    "solution = Solution()\n",
    "result = solution.gcdOfStrings(string1, string2)\n",
    "if result == output:\n",
    "    print('Passed')\n",
    "else:\n",
    "    print('Failed')"
   ]
  },
  {
   "cell_type": "markdown",
   "metadata": {},
   "source": [
    "## Test case 3"
   ]
  },
  {
   "cell_type": "code",
   "execution_count": 33,
   "metadata": {},
   "outputs": [
    {
     "name": "stdout",
     "output_type": "stream",
     "text": [
      "Passed\n"
     ]
    }
   ],
   "source": [
    "string1 = \"LEET\"\n",
    "string2 = \"CODE\"\n",
    "output = \"\"\n",
    "\n",
    "solution = Solution()\n",
    "result = solution.gcdOfStrings(string1, string2)\n",
    "if result == output:\n",
    "    print('Passed')\n",
    "else:\n",
    "    print('Failed')"
   ]
  }
 ],
 "metadata": {
  "kernelspec": {
   "display_name": "Python 3",
   "language": "python",
   "name": "python3"
  },
  "language_info": {
   "codemirror_mode": {
    "name": "ipython",
    "version": 3
   },
   "file_extension": ".py",
   "mimetype": "text/x-python",
   "name": "python",
   "nbconvert_exporter": "python",
   "pygments_lexer": "ipython3",
   "version": "3.8.10"
  }
 },
 "nbformat": 4,
 "nbformat_minor": 2
}
