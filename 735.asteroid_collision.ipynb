{
 "cells": [
  {
   "cell_type": "markdown",
   "metadata": {},
   "source": [
    "# Description\n",
    "We are given an array asteroids of integers representing asteroids in a row.\n",
    "\n",
    "For each asteroid, the absolute value represents its size, and the sign represents its direction (positive meaning right, negative meaning left). Each asteroid moves at the same speed.\n",
    "\n",
    "Find out the state of the asteroids after all collisions. If two asteroids meet, the smaller one will explode. If both are the same size, both will explode. Two asteroids moving in the same direction will never meet.\n"
   ]
  },
  {
   "cell_type": "markdown",
   "metadata": {},
   "source": [
    "## Code"
   ]
  },
  {
   "cell_type": "code",
   "execution_count": 16,
   "metadata": {},
   "outputs": [],
   "source": [
    "class Solution(object):\n",
    "    def asteroidCollision(self, asteroids):\n",
    "        \"\"\"\n",
    "        :type asteroids: List[int]\n",
    "        :rtype: List[int]\n",
    "        \"\"\"\n",
    "        j = 0\n",
    "        n = len(asteroids)\n",
    "\n",
    "        for i in range(n):\n",
    "            asteroid = asteroids[i]\n",
    "            while j > 0 and asteroids[j - 1] > 0 and asteroid < 0 and asteroids[j - 1] < abs(asteroid):\n",
    "                j -= 1\n",
    "\n",
    "            if j == 0 or asteroid > 0 or asteroids[j - 1] < 0:\n",
    "                asteroids[j] = asteroid\n",
    "                j += 1\n",
    "            elif asteroids[j - 1] == abs(asteroid):\n",
    "                j -= 1\n",
    "        return asteroids[:j]"
   ]
  },
  {
   "cell_type": "code",
   "execution_count": 15,
   "metadata": {},
   "outputs": [
    {
     "name": "stdout",
     "output_type": "stream",
     "text": [
      "[5, 10, -5]\n"
     ]
    }
   ],
   "source": [
    "ast = [5, 10, -5]\n",
    "n = len(ast)\n",
    "\n",
    "\n",
    "print(ast)"
   ]
  },
  {
   "cell_type": "markdown",
   "metadata": {},
   "source": [
    "# Explanation\n",
    "- Maintain a list to track the final string\n",
    "- If * exists in the original string, pop the last element in the list\n",
    "- Finally, return the joined string as answer."
   ]
  },
  {
   "cell_type": "markdown",
   "metadata": {},
   "source": [
    "## Test case 1"
   ]
  },
  {
   "cell_type": "code",
   "execution_count": 17,
   "metadata": {},
   "outputs": [
    {
     "name": "stdout",
     "output_type": "stream",
     "text": [
      "Passed\n"
     ]
    }
   ],
   "source": [
    "asteroids = [5,10,-5]\n",
    "output = [5,10]\n",
    "\n",
    "solution = Solution()\n",
    "result = solution.asteroidCollision(asteroids)\n",
    "if result == output:\n",
    "    print('Passed')\n",
    "else:\n",
    "    print('Failed')"
   ]
  },
  {
   "cell_type": "markdown",
   "metadata": {},
   "source": [
    "## Test case 2"
   ]
  },
  {
   "cell_type": "code",
   "execution_count": 18,
   "metadata": {},
   "outputs": [
    {
     "name": "stdout",
     "output_type": "stream",
     "text": [
      "Passed\n"
     ]
    }
   ],
   "source": [
    "asteroids = [8, -8]\n",
    "output = []\n",
    "\n",
    "solution = Solution()\n",
    "result = solution.asteroidCollision(asteroids)\n",
    "if result == output:\n",
    "    print('Passed')\n",
    "else:\n",
    "    print('Failed')"
   ]
  },
  {
   "cell_type": "markdown",
   "metadata": {},
   "source": [
    "## Test case 3"
   ]
  },
  {
   "cell_type": "code",
   "execution_count": 19,
   "metadata": {},
   "outputs": [
    {
     "name": "stdout",
     "output_type": "stream",
     "text": [
      "Passed\n"
     ]
    }
   ],
   "source": [
    "asteroids = [10,2,-5]\n",
    "output = [10]\n",
    "\n",
    "solution = Solution()\n",
    "result = solution.asteroidCollision(asteroids)\n",
    "if result == output:\n",
    "    print('Passed')\n",
    "else:\n",
    "    print('Failed')"
   ]
  },
  {
   "cell_type": "code",
   "execution_count": 20,
   "metadata": {},
   "outputs": [
    {
     "name": "stdout",
     "output_type": "stream",
     "text": [
      "Completed 25 problems!\n"
     ]
    }
   ],
   "source": [
    "import glob\n",
    "\n",
    "def count_files(extension):\n",
    "    files = glob.glob(f'./*.{extension}')\n",
    "    return len(files)\n",
    "\n",
    "print(f'Completed {count_files(\"ipynb\")} problems!')"
   ]
  }
 ],
 "metadata": {
  "kernelspec": {
   "display_name": "Python 3",
   "language": "python",
   "name": "python3"
  },
  "language_info": {
   "codemirror_mode": {
    "name": "ipython",
    "version": 3
   },
   "file_extension": ".py",
   "mimetype": "text/x-python",
   "name": "python",
   "nbconvert_exporter": "python",
   "pygments_lexer": "ipython3",
   "version": "3.11.7"
  }
 },
 "nbformat": 4,
 "nbformat_minor": 2
}
